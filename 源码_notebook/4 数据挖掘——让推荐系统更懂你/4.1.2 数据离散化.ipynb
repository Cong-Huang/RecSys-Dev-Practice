{
 "cells": [
  {
   "cell_type": "code",
   "execution_count": null,
   "metadata": {},
   "outputs": [],
   "source": [
    "# -*-coding:utf-8-*-\n",
    "\n",
    "\"\"\"\n",
    "    Author: Thinkgamer\n",
    "    Desc:\n",
    "        代码4-1 Python实现标准化方法\n",
    "\"\"\"\n",
    "import numpy as np\n",
    "import math\n",
    "\n",
    "class DataNorm:\n",
    "    def __init__(self):\n",
    "        self.arr = [1, 2, 3, 4, 5, 6, 7, 8, 9]\n",
    "        self.x_max = max(self.arr)  # 最大值\n",
    "        self.x_min = min(self.arr)  # 最小值\n",
    "        self.x_mean = sum(self.arr) / len(self.arr)  # 平均值\n",
    "        self.x_std = np.std(self.arr)  # 标准差\n",
    "\n",
    "    def Min_Max(self):\n",
    "        arr_ = list()\n",
    "        for x in self.arr:\n",
    "            # round(x,4) 对x保留4位小数\n",
    "            arr_.append(round((x - self.x_min) / (self.x_max - self.x_min), 4))\n",
    "        print(\"经过Min_Max标准化后的数据为:\\n{}\".format(arr_))\n",
    "\n",
    "    def Z_Score(self):\n",
    "        arr_ = list()\n",
    "        for x in self.arr:\n",
    "            arr_.append(round((x - self.x_mean) / self.x_std, 4))\n",
    "        print(\"经过Z_Score标准化后的数据为:\\n{}\".format(arr_))\n",
    "\n",
    "    # 有点问题，改为如下这样\n",
    "    # def DecimalScaling(self):\n",
    "    #     arr_ = list()\n",
    "    #     j = self.x_max // 10 if self.x_max % 10 == 0 else self.x_max // 10 + 1\n",
    "    #     for x in self.arr:\n",
    "    #         arr_.append(round(x / math.pow(10, j), 4))\n",
    "    #     print(\"经过Decimal Scaling标准化后的数据为:\\n{}\".format(arr_))\n",
    "    def DecimalScaling(self):\n",
    "        arr_ = list()\n",
    "        j = 1\n",
    "        x_max = max([abs(one) for one in self.arr])\n",
    "        while x_max / 10 >= 1.0:\n",
    "            j += 1\n",
    "            x_max = x_max / 10\n",
    "        for x in self.arr:\n",
    "            arr_.append(round(x / math.pow(10, j), 4))\n",
    "        print(\"经过Decimal Scaling标准化后的数据为:\\n{}\".format(arr_))\n",
    "\n",
    "    def Mean(self):\n",
    "        arr_ = list()\n",
    "        for x in self.arr:\n",
    "            arr_.append(round((x - self.x_mean) / (self.x_max - self.x_min), 4))\n",
    "        print(\"经过均值标准化后的数据为:\\n{}\".format(arr_))\n",
    "\n",
    "    def Vector(self):\n",
    "        arr_ = list()\n",
    "        for x in self.arr:\n",
    "            arr_.append(round(x / sum(self.arr), 4))\n",
    "        print(\"经过向量标准化后的数据为:\\n{}\".format(arr_))\n",
    "\n",
    "    def exponential(self):\n",
    "        arr_1 = list()\n",
    "        for x in self.arr:\n",
    "            arr_1.append(round(math.log10(x) / math.log10(self.x_max), 4))\n",
    "        print(\"经过指数转换法（log10）标准化后的数据为;\\n{}\".format(arr_1))\n",
    "\n",
    "        arr_2 = list()\n",
    "        sum_e = sum([math.exp(one) for one in self.arr])\n",
    "        for x in self.arr:\n",
    "            arr_2.append(round(math.exp(x) / sum_e, 4))\n",
    "        print(\"经过指数转换法（SoftMax）标准化后的数据为;\\n{}\".format(arr_2))\n",
    "\n",
    "        arr_3 = list()\n",
    "        for x in self.arr:\n",
    "            arr_3.append(round(1 / (1 + math.exp(-x)), 4))\n",
    "        print(\"经过指数转换法（Sigmoid）标准化后的数据为;\\n{}\".format(arr_3))\n",
    "\n",
    "if __name__ == \"__main__\":\n",
    "    dn = DataNorm()\n",
    "    dn.Min_Max()\n",
    "    dn.Z_Score()\n",
    "    dn.DecimalScaling()\n",
    "    dn.Mean()\n",
    "    dn.Vector()\n",
    "    dn.exponential()\n"
   ]
  }
 ],
 "metadata": {
  "kernelspec": {
   "display_name": "Python 3",
   "language": "python",
   "name": "python3"
  },
  "language_info": {
   "codemirror_mode": {
    "name": "ipython",
    "version": 3
   },
   "file_extension": ".py",
   "mimetype": "text/x-python",
   "name": "python",
   "nbconvert_exporter": "python",
   "pygments_lexer": "ipython3",
   "version": "3.6.5"
  },
  "varInspector": {
   "cols": {
    "lenName": 16,
    "lenType": 16,
    "lenVar": 40
   },
   "kernels_config": {
    "python": {
     "delete_cmd_postfix": "",
     "delete_cmd_prefix": "del ",
     "library": "var_list.py",
     "varRefreshCmd": "print(var_dic_list())"
    },
    "r": {
     "delete_cmd_postfix": ") ",
     "delete_cmd_prefix": "rm(",
     "library": "var_list.r",
     "varRefreshCmd": "cat(var_dic_list()) "
    }
   },
   "types_to_exclude": [
    "module",
    "function",
    "builtin_function_or_method",
    "instance",
    "_Feature"
   ],
   "window_display": false
  }
 },
 "nbformat": 4,
 "nbformat_minor": 2
}
