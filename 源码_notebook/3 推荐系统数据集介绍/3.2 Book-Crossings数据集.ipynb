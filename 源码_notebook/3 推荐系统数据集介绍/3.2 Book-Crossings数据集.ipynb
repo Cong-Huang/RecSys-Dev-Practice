{
 "cells": [
  {
   "cell_type": "code",
   "execution_count": 2,
   "metadata": {},
   "outputs": [],
   "source": [
    "# -*-coding:utf-8-*-\n",
    "\n",
    "\"\"\"\n",
    "    Author: Thinkgamer\n",
    "    Desc:\n",
    "        代码3-2  数据集介绍之Book-Crossings数据集\n",
    "\"\"\"\n",
    "import pandas as pd\n",
    "import matplotlib.pyplot as plt\n",
    "\n",
    "# 用来正常显示中文标签\n",
    "plt.rcParams[\"font.sans-serif\"] = [\"SimHei\"]\n",
    "# 用来正常显示负号\n",
    "plt.rcParams[\"axes.unicode_minus\"] = False"
   ]
  },
  {
   "cell_type": "code",
   "execution_count": 3,
   "metadata": {},
   "outputs": [
    {
     "name": "stdout",
     "output_type": "stream",
     "text": [
      "filePath is '../data/bookcrossings/BX-Book-Ratings.csv'\n",
      "前5条数据为: \n",
      "    User-ID        ISBN  Book-Rating\n",
      "0   276725  034545104X            0\n",
      "1   276726  0155061224            5\n",
      "2   276727  0446520802            0\n",
      "3   276729  052165615X            3\n",
      "4   276729  0521795028            6\n",
      "总的数据记录条数为: \n",
      " User-ID        1149780\n",
      "ISBN           1149780\n",
      "Book-Rating    1149780\n",
      "dtype: int64\n",
      "用户对图书的评分范围为: <0,10>\n",
      "\n"
     ]
    },
    {
     "data": {
      "image/png": "[encoded data removed]",
      "text/plain": [
       "<Figure size 432x288 with 1 Axes>"
      ]
     },
     "metadata": {},
     "output_type": "display_data"
    }
   ],
   "source": [
    "def getRatings(file_path):\n",
    "    print(\"filePath is '{}'\".format(file_path))\n",
    "    ratings = pd.read_table(\n",
    "        file_path,\n",
    "        header=0,\n",
    "        sep=\";\",\n",
    "        encoding=\"ISO-8859-1\"\n",
    "    )\n",
    "\n",
    "    print(\"前5条数据为: \\n {}\".format(ratings.head(5)))\n",
    "    print(\"总的数据记录条数为: \\n {}\".format(ratings.count()))\n",
    "    print(\"用户对图书的评分范围为: <{},{}>\\n\"\n",
    "          .format(ratings[\"Book-Rating\"].min(), ratings[\"Book-Rating\"].max()))\n",
    "\n",
    "    rateSer = ratings[\"Book-Rating\"].groupby(ratings[\"Book-Rating\"]).count()\n",
    "    plt.bar(rateSer.keys(), rateSer.values, fc=\"r\", tick_label=rateSer.keys())\n",
    "    for x, y in zip(rateSer.keys(), rateSer.values):\n",
    "        plt.text(x, y + 1, \"%.0f\" % y, ha=\"center\", va=\"bottom\", fontsize=9)\n",
    "    plt.xlabel(\"用户评分\")\n",
    "    plt.ylabel(\"评分对应的人数\")\n",
    "    plt.title(\"每种评分下对应的人数统计图\")\n",
    "    plt.show()\n",
    "    \n",
    "\n",
    "getRatings(\"../data/bookcrossings/BX-Book-Ratings.csv\")"
   ]
  },
  {
   "cell_type": "code",
   "execution_count": 7,
   "metadata": {},
   "outputs": [
    {
     "name": "stdout",
     "output_type": "stream",
     "text": [
      "filePath is '../data/bookcrossings/BX-Books.csv''\n"
     ]
    },
    {
     "name": "stderr",
     "output_type": "stream",
     "text": [
      "b'Skipping line 6452: expected 8 fields, saw 9\\nSkipping line 43667: expected 8 fields, saw 10\\nSkipping line 51751: expected 8 fields, saw 9\\n'\n",
      "b'Skipping line 92038: expected 8 fields, saw 9\\nSkipping line 104319: expected 8 fields, saw 9\\nSkipping line 121768: expected 8 fields, saw 9\\n'\n",
      "b'Skipping line 144058: expected 8 fields, saw 9\\nSkipping line 150789: expected 8 fields, saw 9\\nSkipping line 157128: expected 8 fields, saw 9\\nSkipping line 180189: expected 8 fields, saw 9\\nSkipping line 185738: expected 8 fields, saw 9\\n'\n",
      "b'Skipping line 209388: expected 8 fields, saw 9\\nSkipping line 220626: expected 8 fields, saw 9\\nSkipping line 227933: expected 8 fields, saw 11\\nSkipping line 228957: expected 8 fields, saw 10\\nSkipping line 245933: expected 8 fields, saw 9\\nSkipping line 251296: expected 8 fields, saw 9\\nSkipping line 259941: expected 8 fields, saw 9\\nSkipping line 261529: expected 8 fields, saw 9\\n'\n",
      "C:\\Anaconda3\\lib\\site-packages\\IPython\\core\\interactiveshell.py:2909: DtypeWarning: Columns (3) have mixed types. Specify dtype option on import or set low_memory=False.\n",
      "  if self.run_code(code, result):\n"
     ]
    },
    {
     "name": "stdout",
     "output_type": "stream",
     "text": [
      "总的数据记录条数为: \n",
      "ISBN                   271360\n",
      "Book-Title             271360\n",
      "Book-Author            271359\n",
      "Year-Of-Publication    271360\n",
      "Publisher              271358\n",
      "Image-URL-S            271360\n",
      "Image-URL-M            271360\n",
      "Image-URL-L            271357\n",
      "dtype: int64\n",
      "Year-Of-Publication\n",
      "0                    3570\n",
      "1806                    1\n",
      "1900                    1\n",
      "1901                    7\n",
      "1902                    2\n",
      "1904                    1\n",
      "1906                    1\n",
      "1908                    1\n",
      "1910                    1\n",
      "1911                   10\n",
      "1914                    1\n",
      "1917                    1\n",
      "1920                   27\n",
      "1921                    2\n",
      "1923                    8\n",
      "1924                    1\n",
      "1925                    2\n",
      "1926                    1\n",
      "1927                    1\n",
      "1928                    2\n",
      "1929                    7\n",
      "1930                   12\n",
      "1931                    2\n",
      "1932                    3\n",
      "1933                    2\n",
      "1934                    1\n",
      "1935                    3\n",
      "1936                    5\n",
      "1937                    5\n",
      "1938                    6\n",
      "                     ... \n",
      "1986                 1583\n",
      "1987                 1768\n",
      "1988                 1947\n",
      "1989                 2111\n",
      "1990                 2266\n",
      "1991                 2463\n",
      "1992                 2516\n",
      "1993                 2682\n",
      "1994                 2939\n",
      "1995                 3287\n",
      "1996                 3343\n",
      "1997                 3396\n",
      "1998                 3650\n",
      "1999                 4017\n",
      "2000                 3859\n",
      "2001                 3644\n",
      "2002                 3724\n",
      "2003                 2748\n",
      "2004                 1210\n",
      "2005                   18\n",
      "2006                    3\n",
      "2008                    1\n",
      "2011                    1\n",
      "2012                    1\n",
      "2020                    1\n",
      "2024                    1\n",
      "2030                    3\n",
      "2037                    1\n",
      "DK Publishing Inc       2\n",
      "Gallimard               1\n",
      "Name: Year-Of-Publication, Length: 202, dtype: int64\n"
     ]
    }
   ],
   "source": [
    "def getBooksMess(file_path):\n",
    "    print(\"filePath is '{}''\".format(file_path))\n",
    "    books = pd.read_table(\n",
    "        file_path,\n",
    "        header=0,\n",
    "        sep=\";\",\n",
    "        encoding=\"ISO-8859-1\",\n",
    "        error_bad_lines=False,  # 遇到错误行跳过 \n",
    "    )\n",
    "    print(\"总的数据记录条数为: \\n{}\".format(books.count()))\n",
    "\n",
    "    # 出版时间分布\n",
    "    yearsSer = books[\"Year-Of-Publication\"].groupby(books[\"Year-Of-Publication\"]).count()\n",
    "    print(yearsSer)\n",
    "\n",
    "getBooksMess(\"../data/bookcrossings/BX-Books.csv\")"
   ]
  },
  {
   "cell_type": "code",
   "execution_count": 8,
   "metadata": {},
   "outputs": [
    {
     "name": "stdout",
     "output_type": "stream",
     "text": [
      "filePath is '../data/bookcrossings/BX-Users.csv''\n",
      "前5条数据为: \n",
      "    User-ID                            Location   Age\n",
      "0        1                  nyc, new york, usa   NaN\n",
      "1        2           stockton, california, usa  18.0\n",
      "2        3     moscow, yukon territory, russia   NaN\n",
      "3        4           porto, v.n.gaia, portugal  17.0\n",
      "4        5  farnborough, hants, united kingdom   NaN\n",
      "总的数据记录条数为: \n",
      " User-ID     278858\n",
      "Location    278858\n",
      "Age         168096\n",
      "dtype: int64\n",
      "年龄的最大最小值: <0.0,244.0>\n"
     ]
    }
   ],
   "source": [
    "def getUsersMess(file_path):\n",
    "    print(\"filePath is '{}''\".format(file_path))\n",
    "    users = pd.read_table(\n",
    "        file_path,\n",
    "        header=0,\n",
    "        sep=\";\",\n",
    "        encoding=\"ISO-8859-1\"\n",
    "    )\n",
    "    print(\"前5条数据为: \\n {}\".format(users.head(5)))\n",
    "    print(\"总的数据记录条数为: \\n {}\".format(users.count()))\n",
    "    print(\"年龄的最大最小值: <{},{}>\"\n",
    "          .format(users[\"Age\"].min(), users[\"Age\"].max()))\n",
    "\n",
    "getUsersMess(\"../data/bookcrossings/BX-Users.csv\")"
   ]
  },
  {
   "cell_type": "code",
   "execution_count": null,
   "metadata": {},
   "outputs": [],
   "source": []
  }
 ],
 "metadata": {
  "kernelspec": {
   "display_name": "Python 3",
   "language": "python",
   "name": "python3"
  },
  "language_info": {
   "codemirror_mode": {
    "name": "ipython",
    "version": 3
   },
   "file_extension": ".py",
   "mimetype": "text/x-python",
   "name": "python",
   "nbconvert_exporter": "python",
   "pygments_lexer": "ipython3",
   "version": "3.6.5"
  },
  "varInspector": {
   "cols": {
    "lenName": 16,
    "lenType": 16,
    "lenVar": 40
   },
   "kernels_config": {
    "python": {
     "delete_cmd_postfix": "",
     "delete_cmd_prefix": "del ",
     "library": "var_list.py",
     "varRefreshCmd": "print(var_dic_list())"
    },
    "r": {
     "delete_cmd_postfix": ") ",
     "delete_cmd_prefix": "rm(",
     "library": "var_list.r",
     "varRefreshCmd": "cat(var_dic_list()) "
    }
   },
   "types_to_exclude": [
    "module",
    "function",
    "builtin_function_or_method",
    "instance",
    "_Feature"
   ],
   "window_display": false
  }
 },
 "nbformat": 4,
 "nbformat_minor": 2
}
